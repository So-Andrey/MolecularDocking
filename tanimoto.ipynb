{
 "cells": [
  {
   "cell_type": "code",
   "execution_count": 1,
   "id": "394c02b5-fa6c-4633-9736-811921b6544e",
   "metadata": {},
   "outputs": [
    {
     "name": "stdout",
     "output_type": "stream",
     "text": [
      "Лиганд 1: коэффициент Танимото = 0.04888888888888889\n"
     ]
    },
    {
     "name": "stderr",
     "output_type": "stream",
     "text": [
      "[17:27:01] DEPRECATION WARNING: please use MorganGenerator\n",
      "[17:27:01] DEPRECATION WARNING: please use MorganGenerator\n"
     ]
    }
   ],
   "source": [
    "from rdkit import Chem\n",
    "from rdkit.Chem import rdMolDescriptors, DataStructs\n",
    "\n",
    "def pdb_to_rdkit(pdb_file):\n",
    "    \"\"\"Конвертирует PDB в RDKit-молекулу.\"\"\"\n",
    "    return Chem.rdmolfiles.MolFromPDBFile(pdb_file)\n",
    "\n",
    "def generate_morgan_fingerprint(molecule, radius=2, n_bits=2048):\n",
    "    \"\"\"Генерирует отпечаток Моргана.\"\"\"\n",
    "    return rdMolDescriptors.GetMorganFingerprintAsBitVect(molecule, radius, nBits=n_bits)\n",
    "\n",
    "def calculate_tanimoto(fp1, fp2):\n",
    "    \"\"\"Вычисляет коэффициент Танимото.\"\"\"\n",
    "    return DataStructs.TanimotoSimilarity(fp1, fp2)\n",
    "\n",
    "# Конвертация молекул\n",
    "protein_molecule = pdb_to_rdkit(\"YTHDC2.pdb\")\n",
    "ligand_files = [\"gesperidin.pdb\"]\n",
    "\n",
    "# Генерация отпечатков для белка и лигандов\n",
    "protein_fp = generate_morgan_fingerprint(protein_molecule)\n",
    "ligand_fps = [generate_morgan_fingerprint(pdb_to_rdkit(f)) for f in ligand_files]\n",
    "\n",
    "# Вычисление коэффициентов Танимото\n",
    "tanimoto_scores = [calculate_tanimoto(protein_fp, fp) for fp in ligand_fps]\n",
    "\n",
    "# Вывод результатов\n",
    "for i, score in enumerate(tanimoto_scores, start=1):\n",
    "    print(f\"Лиганд {i}: коэффициент Танимото = {score}\")"
   ]
  },
  {
   "cell_type": "code",
   "execution_count": null,
   "id": "4a6c4619-da1d-4402-9da3-31959363b17c",
   "metadata": {},
   "outputs": [],
   "source": []
  }
 ],
 "metadata": {
  "kernelspec": {
   "display_name": "Python 3 (ipykernel)",
   "language": "python",
   "name": "python3"
  },
  "language_info": {
   "codemirror_mode": {
    "name": "ipython",
    "version": 3
   },
   "file_extension": ".py",
   "mimetype": "text/x-python",
   "name": "python",
   "nbconvert_exporter": "python",
   "pygments_lexer": "ipython3",
   "version": "3.11.7"
  }
 },
 "nbformat": 4,
 "nbformat_minor": 5
}
